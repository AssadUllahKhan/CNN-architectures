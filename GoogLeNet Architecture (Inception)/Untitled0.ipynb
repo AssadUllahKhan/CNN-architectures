{
 "cells": [
  {
   "cell_type": "code",
   "execution_count": null,
   "metadata": {
    "colab": {
     "base_uri": "https://localhost:8080/"
    },
    "executionInfo": {
     "elapsed": 4420,
     "status": "ok",
     "timestamp": 1732874040992,
     "user": {
      "displayName": "Assad Ullah",
      "userId": "12251528893146048503"
     },
     "user_tz": -300
    },
    "id": "u46uElQOPqaI",
    "outputId": "002caeef-2c38-4684-d95d-f85fbf13c09b"
   },
   "outputs": [
    {
     "name": "stdout",
     "output_type": "stream",
     "text": [
      "Downloading from https://www.kaggle.com/api/v1/datasets/download/javaidahmadwani/sign-language-digits-dataset?dataset_version_number=1...\n"
     ]
    },
    {
     "name": "stderr",
     "output_type": "stream",
     "text": [
      "100%|██████████| 16.4M/16.4M [00:00<00:00, 133MB/s]"
     ]
    },
    {
     "name": "stdout",
     "output_type": "stream",
     "text": [
      "Extracting files...\n"
     ]
    },
    {
     "name": "stderr",
     "output_type": "stream",
     "text": [
      "\n"
     ]
    },
    {
     "name": "stdout",
     "output_type": "stream",
     "text": [
      "Path to dataset files: /root/.cache/kagglehub/datasets/javaidahmadwani/sign-language-digits-dataset/versions/1\n"
     ]
    }
   ],
   "source": [
    "import kagglehub\n",
    "import os\n",
    "\n",
    "# Download latest version\n",
    "path = kagglehub.dataset_download(\"javaidahmadwani/sign-language-digits-dataset\")\n",
    "\n",
    "print(\"Path to dataset files:\", path)"
   ]
  },
  {
   "cell_type": "code",
   "execution_count": null,
   "metadata": {
    "id": "NjQvSa4DV2MB"
   },
   "outputs": [],
   "source": [
    "import tensorflow as tf\n",
    "from tensorflow.keras.optimizers import Adam\n",
    "from tensorflow.keras import layers, models\n",
    "from tensorflow.keras.preprocessing.image import ImageDataGenerator\n",
    "\n",
    "# Set paths to your training, validation, and test directories\n",
    "train_dir = os.path.join(path, 'Sign-Language-Digits-Datase/train')\n",
    "val_dir = os.path.join(path, 'Sign-Language-Digits-Datase/test')\n",
    "test_dir = os.path.join(path, 'Sign-Language-Digits-Datase/valid')"
   ]
  },
  {
   "cell_type": "code",
   "execution_count": 1,
   "metadata": {
    "colab": {
     "base_uri": "https://localhost:8080/"
    },
    "executionInfo": {
     "elapsed": 1430,
     "status": "ok",
     "timestamp": 1732879718097,
     "user": {
      "displayName": "Assad Ullah",
      "userId": "12251528893146048503"
     },
     "user_tz": -300
    },
    "id": "XdvKMlqRV3JQ",
    "outputId": "cf7f2c23-a3b9-40cc-ccff-b684aa501d5f"
   },
   "outputs": [
    {
     "name": "stdout",
     "output_type": "stream",
     "text": [
      "Cloning into 'deep-residual-networks'...\n",
      "remote: Enumerating objects: 110, done.\u001b[K\n",
      "remote: Total 110 (delta 0), reused 0 (delta 0), pack-reused 110 (from 1)\u001b[K\n",
      "Receiving objects: 100% (110/110), 27.38 KiB | 9.13 MiB/s, done.\n",
      "Resolving deltas: 100% (55/55), done.\n"
     ]
    }
   ],
   "source": [
    "!git clone https://github.com/KaimingHe/deep-residual-networks.git"
   ]
  },
  {
   "cell_type": "code",
   "execution_count": 4,
   "metadata": {
    "colab": {
     "base_uri": "https://localhost:8080/"
    },
    "executionInfo": {
     "elapsed": 642,
     "status": "ok",
     "timestamp": 1732880068358,
     "user": {
      "displayName": "Assad Ullah",
      "userId": "12251528893146048503"
     },
     "user_tz": -300
    },
    "id": "CZvy6K5BrYUi",
    "outputId": "adcc6985-b32f-4e3c-d850-68dd2e77165e"
   },
   "outputs": [
    {
     "name": "stdout",
     "output_type": "stream",
     "text": [
      "/content/drive/MyDrive/clone\n"
     ]
    }
   ],
   "source": [
    "%cd /content/drive/MyDrive/clone"
   ]
  },
  {
   "cell_type": "code",
   "execution_count": null,
   "metadata": {
    "id": "W_U_ups7sa9J"
   },
   "outputs": [],
   "source": [
    "jaksfd"
   ]
  }
 ],
 "metadata": {
  "accelerator": "GPU",
  "colab": {
   "authorship_tag": "ABX9TyNlofl2/9HISLsc5xOOKVVl",
   "gpuType": "T4",
   "mount_file_id": "1UeT7NTs03upeMb_9rAp1ylurWtsdLC2s",
   "provenance": []
  },
  "kernelspec": {
   "display_name": "Python 3",
   "name": "python3"
  },
  "language_info": {
   "name": "python"
  }
 },
 "nbformat": 4,
 "nbformat_minor": 0
}
